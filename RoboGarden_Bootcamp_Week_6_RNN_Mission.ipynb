{
 "cells": [
  {
   "cell_type": "markdown",
   "metadata": {},
   "source": [
    "# RoboGarden Bootcamp Week 6 RNN Mission"
   ]
  },
  {
   "cell_type": "markdown",
   "metadata": {},
   "source": [
    "### We will use an RNN to predict the next word based on previous word(s). \n",
    "### We will use parts of text from Shakespeare to train the network."
   ]
  },
  {
   "cell_type": "code",
   "execution_count": 1,
   "metadata": {},
   "outputs": [],
   "source": [
    "#Import General Libraries\n",
    "import warnings\n",
    "warnings.filterwarnings('ignore')\n",
    "import pandas as pd\n",
    "import livelossplot\n",
    "import matplotlib.pyplot as plt\n",
    "%matplotlib inline"
   ]
  },
  {
   "cell_type": "markdown",
   "metadata": {},
   "source": [
    "## Step 1  Create a new text file using your preferred text editor, e.g. Notepad.\n",
    "    #File name: data.txt\n",
    "    #Copy the file content from this link"
   ]
  },
  {
   "cell_type": "code",
   "execution_count": 2,
   "metadata": {},
   "outputs": [],
   "source": [
    "with open('data.txt', 'r') as file:      #read file into \"text\", split into lines on '\\n' with lower case\n",
    "    text = file.read()\n",
    "    lines = text.lower().split('\\n')"
   ]
  },
  {
   "cell_type": "markdown",
   "metadata": {},
   "source": [
    "### Step 2:  Tokenize with  text_to_words_sequence() and Tokenizer():"
   ]
  },
  {
   "cell_type": "code",
   "execution_count": 3,
   "metadata": {},
   "outputs": [
    {
     "name": "stderr",
     "output_type": "stream",
     "text": [
      "Using TensorFlow backend.\n"
     ]
    }
   ],
   "source": [
    "from keras.preprocessing.text import text_to_word_sequence, Tokenizer   # import fuctions\n",
    "words = text_to_word_sequence(text)                                     # get words from text, remove punctuation \n",
    "                                                                        # & make all words lower case\n",
    "tokenizer = Tokenizer()                                                 \n",
    "tokenizer.fit_on_texts(words)                                           # convert words to tokens\n",
    "vocabulary_size = len(tokenizer.word_index) + 1\n",
    "\n",
    "sequences = tokenizer.texts_to_sequences(lines)                         # convert lines to sequences of tokens\n",
    "\n",
    "subsequences = []                                                       # create subsequences from the sequences\n",
    "for sequence in sequences:                                              # from 1 word to the size of the sequence\n",
    "    for i in range(1, len(sequence)):\n",
    "        subsequence = sequence[:i+1]\n",
    "        subsequences.append(subsequence)\n",
    "\n",
    "from keras.preprocessing.sequence import pad_sequences                  # pad the subsequences with zeros so they\n",
    "sequence_length = max([len(sequence) for sequence in sequences])                # are all the same length\n",
    "sequences = pad_sequences(subsequences, maxlen=sequence_length, padding='pre')  # \"pre\" pads zeros at the front\n",
    "\n",
    "from keras.utils import to_categorical                                  # split into x and y with x being all words \n",
    "x, y = sequences[:,:-1],sequences[:,-1]                                 # in a sequence, except the last word and \n",
    "y = to_categorical(y, num_classes=vocabulary_size)                      # y is the last word"
   ]
  },
  {
   "cell_type": "markdown",
   "metadata": {},
   "source": [
    "### Step 3:  Define an RNN with the following layers:\n",
    "\n",
    "    An embedding layer with the following parameters:\n",
    "        The input dimension is vocabulary_size.   The output dimension is 100.   The input length is sequence_length - 1\n",
    "    \n",
    "    An LSTM layer with 100 units\n",
    "    \n",
    "    A dropout layer with a dropout rate of 10%\n",
    "    \n",
    "    A dense layer with parameters:  The activation function is softmax.  The number of units is vocabulary_size"
   ]
  },
  {
   "cell_type": "code",
   "execution_count": 4,
   "metadata": {},
   "outputs": [],
   "source": [
    "# Step3:  Initialize the model & build it\n",
    "from keras.models import Sequential\n",
    "model = Sequential()"
   ]
  },
  {
   "cell_type": "code",
   "execution_count": 5,
   "metadata": {},
   "outputs": [
    {
     "name": "stdout",
     "output_type": "stream",
     "text": [
      "WARNING:tensorflow:From C:\\Users\\djslb\\.conda\\envs\\Robo_Jupiter\\lib\\site-packages\\tensorflow\\python\\framework\\op_def_library.py:263: colocate_with (from tensorflow.python.framework.ops) is deprecated and will be removed in a future version.\n",
      "Instructions for updating:\n",
      "Colocations handled automatically by placer.\n"
     ]
    }
   ],
   "source": [
    "# Add the Embedding Layer The input layer is an embedding layer where:\n",
    "\n",
    "    #The input dimension is vocabulary_size\n",
    "    #The output dimension is 10\n",
    "    #The input length is sequence_length - 1\n",
    "    \n",
    "from keras.layers import Embedding\n",
    "model.add(Embedding(vocabulary_size, 100, input_length = sequence_length -1))"
   ]
  },
  {
   "cell_type": "code",
   "execution_count": 6,
   "metadata": {},
   "outputs": [],
   "source": [
    "# Add an LSTM layer with 100 units\n",
    "from keras.layers import LSTM\n",
    "model.add(LSTM(100))"
   ]
  },
  {
   "cell_type": "code",
   "execution_count": 7,
   "metadata": {},
   "outputs": [
    {
     "name": "stdout",
     "output_type": "stream",
     "text": [
      "WARNING:tensorflow:From C:\\Users\\djslb\\.conda\\envs\\Robo_Jupiter\\lib\\site-packages\\keras\\backend\\tensorflow_backend.py:3445: calling dropout (from tensorflow.python.ops.nn_ops) with keep_prob is deprecated and will be removed in a future version.\n",
      "Instructions for updating:\n",
      "Please use `rate` instead of `keep_prob`. Rate should be set to `rate = 1 - keep_prob`.\n"
     ]
    }
   ],
   "source": [
    "# Add a Dropout layer with 10% dropout\n",
    "from keras.layers import Dropout\n",
    "model.add(Dropout(0.1))"
   ]
  },
  {
   "cell_type": "code",
   "execution_count": 8,
   "metadata": {},
   "outputs": [],
   "source": [
    "#  Add output layer that is a fully-connected layer with softmax activation function \n",
    "# and output units are equal to the vocabulary size\n",
    "from keras.layers import Dense\n",
    "model.add(Dense(units = vocabulary_size, activation = 'softmax'))"
   ]
  },
  {
   "cell_type": "markdown",
   "metadata": {},
   "source": [
    "### Step 4: complile the model with loss as \"categorical crossentropy\", \"accuracy\" for metrics, and \"adam\" to optimize"
   ]
  },
  {
   "cell_type": "code",
   "execution_count": 9,
   "metadata": {},
   "outputs": [],
   "source": [
    "model.compile(optimizer = 'adam', loss = 'categorical_crossentropy', metrics = ['accuracy'])"
   ]
  },
  {
   "cell_type": "markdown",
   "metadata": {},
   "source": [
    "### Step 5:  Fit and train model for 500 epochs per the Mission description."
   ]
  },
  {
   "cell_type": "code",
   "execution_count": 10,
   "metadata": {},
   "outputs": [],
   "source": [
    "live_plot = livelossplot.PlotLossesKeras()"
   ]
  },
  {
   "cell_type": "code",
   "execution_count": 11,
   "metadata": {},
   "outputs": [
    {
     "data": {
      "image/png": "[encoded data removed]",
      "text/plain": [
       "<Figure size 864x576 with 2 Axes>"
      ]
     },
     "metadata": {
      "needs_background": "light"
     },
     "output_type": "display_data"
    },
    {
     "name": "stdout",
     "output_type": "stream",
     "text": [
      "Log-loss (cost function):\n",
      "training   (min:    0.151, max:    6.285, cur:    0.157)\n",
      "\n",
      "Accuracy:\n",
      "training   (min:    0.021, max:    0.935, cur:    0.924)\n"
     ]
    },
    {
     "data": {
      "text/plain": [
       "<keras.callbacks.History at 0x1daaf8cff98>"
      ]
     },
     "execution_count": 11,
     "metadata": {},
     "output_type": "execute_result"
    }
   ],
   "source": [
    "# Train for 500 epochs\n",
    "model.fit(x, y,callbacks = [live_plot], epochs = 500)"
   ]
  },
  {
   "cell_type": "code",
   "execution_count": 12,
   "metadata": {},
   "outputs": [
    {
     "name": "stdout",
     "output_type": "stream",
     "text": [
      "acc: 93.12%\n"
     ]
    }
   ],
   "source": [
    "# Test the RNN after 500 epochs\n",
    "scores = model.evaluate(x, y, verbose=0)\n",
    "print(\"%s: %.2f%%\" % (model.metrics_names[1], scores[1]*100))"
   ]
  },
  {
   "cell_type": "code",
   "execution_count": 13,
   "metadata": {},
   "outputs": [
    {
     "name": "stdout",
     "output_type": "stream",
     "text": [
      "Saved model to disk\n"
     ]
    }
   ],
   "source": [
    "# Save the model\n",
    "model.save(\"Week_6_Mission_RNN_text_WS_model.h5\")\n",
    "print(\"Saved model to disk\")"
   ]
  },
  {
   "cell_type": "markdown",
   "metadata": {},
   "source": [
    "### 500 epochs was excessive for this run.  A run of about 200 may have been a better choice or use early stopping."
   ]
  },
  {
   "cell_type": "code",
   "execution_count": null,
   "metadata": {},
   "outputs": [],
   "source": []
  }
 ],
 "metadata": {
  "kernelspec": {
   "display_name": "Python 3",
   "language": "python",
   "name": "python3"
  },
  "language_info": {
   "codemirror_mode": {
    "name": "ipython",
    "version": 3
   },
   "file_extension": ".py",
   "mimetype": "text/x-python",
   "name": "python",
   "nbconvert_exporter": "python",
   "pygments_lexer": "ipython3",
   "version": "3.6.8"
  }
 },
 "nbformat": 4,
 "nbformat_minor": 2
}
